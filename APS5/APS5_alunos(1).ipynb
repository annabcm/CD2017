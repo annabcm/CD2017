{
 "cells": [
  {
   "cell_type": "markdown",
   "metadata": {},
   "source": [
    "# APS 5 - Questões com auxílio do Pandas"
   ]
  },
  {
   "cell_type": "markdown",
   "metadata": {},
   "source": [
    "** Nome: ** <font color=blue> insira seu nome aqui </font>\n"
   ]
  },
  {
   "cell_type": "markdown",
   "metadata": {},
   "source": [
    "APS **INDIVIDUAL**\n",
    "\n",
    "Data de Entrega: 26/Set até às 23h59 via GitHub.\n",
    "\n",
    "Vamos trabalhar com dados do USGS (United States Geological Survey) para tentar determinar se os abalos detectados no hemisfério Norte têm grande probabilidade de serem testes nucleares."
   ]
  },
  {
   "cell_type": "code",
   "execution_count": 1,
   "metadata": {
    "collapsed": true
   },
   "outputs": [],
   "source": [
    "%matplotlib inline\n",
    "import pandas as pd\n",
    "import numpy as np\n",
    "import matplotlib.pyplot as plt\n",
    "from scipy.stats import expon"
   ]
  },
  {
   "cell_type": "code",
   "execution_count": 2,
   "metadata": {},
   "outputs": [
    {
     "data": {
      "text/plain": [
       "['Date',\n",
       " 'Time',\n",
       " 'Latitude',\n",
       " 'Longitude',\n",
       " 'Type',\n",
       " 'Depth',\n",
       " 'Depth Error',\n",
       " 'Depth Seismic Stations',\n",
       " 'Magnitude',\n",
       " 'Magnitude Type',\n",
       " 'Magnitude Error',\n",
       " 'Magnitude Seismic Stations',\n",
       " 'Azimuthal Gap',\n",
       " 'Horizontal Distance',\n",
       " 'Horizontal Error',\n",
       " 'Root Mean Square',\n",
       " 'ID',\n",
       " 'Source',\n",
       " 'Location Source',\n",
       " 'Magnitude Source',\n",
       " 'Status']"
      ]
     },
     "execution_count": 2,
     "metadata": {},
     "output_type": "execute_result"
    }
   ],
   "source": [
    "#Abrir o arquivo\n",
    "df = pd.read_csv('earthquake(1).csv')\n",
    "#listar colunas\n",
    "colunas = list(df)\n",
    "colunas"
   ]
  },
  {
   "cell_type": "markdown",
   "metadata": {},
   "source": [
    "## Liste as primeiras linhas do DataFrame"
   ]
  },
  {
   "cell_type": "code",
   "execution_count": 3,
   "metadata": {},
   "outputs": [],
   "source": [
    "linhas = []\n",
    "for i in range(0,30):\n",
    "    linha=[]\n",
    "    for x in colunas:\n",
    "        linha.append(df[x][i])\n",
    "    linhas.append(linha)\n"
   ]
  },
  {
   "cell_type": "markdown",
   "metadata": {},
   "source": [
    "## Q1 - Manipulando o DataFrame\n",
    "\n",
    "Crie uma coluna chamada `Hemisfério` baseada na Latitude\n",
    "\n",
    "A regra de formação é a seguinte:\n",
    "\n",
    "Valor | Critério\n",
    "---|---\n",
    "Norte | Latitude positiva\n",
    "Sul | Latitude negativa"
   ]
  },
  {
   "cell_type": "code",
   "execution_count": 4,
   "metadata": {
    "collapsed": true
   },
   "outputs": [],
   "source": [
    "df.loc[df['Latitude']<= 0, 'Hemisfério']= 'Sul'\n",
    "df.loc[df['Latitude']> 0, 'Hemisfério']= 'Norte'\n"
   ]
  },
  {
   "cell_type": "markdown",
   "metadata": {},
   "source": [
    "## Q2 - Fit e Histograma\n",
    "\n",
    "Faça o Histograma da Magnitude. Interprete."
   ]
  },
  {
   "cell_type": "code",
   "execution_count": 5,
   "metadata": {},
   "outputs": [
    {
     "data": {
      "image/png": "[encoded data removed]",
      "text/plain": [
       "<matplotlib.figure.Figure at 0x1a3dbf34518>"
      ]
     },
     "metadata": {},
     "output_type": "display_data"
    }
   ],
   "source": [
    "loc = 5.5 #x0\n",
    "scale = np.mean(df['Magnitude'])-5.5   #média-x0\n",
    "x =sorted(expon.rvs(loc,scale,len(df['Magnitude'])))\n",
    "plt.plot(x,expon.pdf(x,loc,scale))\n",
    "faixa = np.arange(df['Magnitude'].min(),df['Magnitude'].max()+0.1, 0.1)\n",
    "df['Magnitude'].plot.hist( bins = faixa, normed=True)\n",
    "plt.title('Histograma da Magnitude')\n",
    "plt.show()"
   ]
  },
  {
   "cell_type": "markdown",
   "metadata": {},
   "source": [
    "<em><b>Gráfico 1</b></em>: Histograma da Magnitude com o fit da exponencial"
   ]
  },
  {
   "cell_type": "markdown",
   "metadata": {},
   "source": [
    "## Q3 - Tabela cruzada\n",
    "\n",
    "Faça uma tabela de cruzamento das variáveis `Hemisfério` e `Type`\n",
    "\n",
    "Sua tabela deve ser <font color=red> normalizada</font>"
   ]
  },
  {
   "cell_type": "code",
   "execution_count": 6,
   "metadata": {},
   "outputs": [
    {
     "data": {
      "text/html": [
       "<div>\n",
       "<style>\n",
       "    .dataframe thead tr:only-child th {\n",
       "        text-align: right;\n",
       "    }\n",
       "\n",
       "    .dataframe thead th {\n",
       "        text-align: left;\n",
       "    }\n",
       "\n",
       "    .dataframe tbody tr th {\n",
       "        vertical-align: top;\n",
       "    }\n",
       "</style>\n",
       "<table border=\"1\" class=\"dataframe\">\n",
       "  <thead>\n",
       "    <tr style=\"text-align: right;\">\n",
       "      <th>Type</th>\n",
       "      <th>Earthquake</th>\n",
       "      <th>Explosion</th>\n",
       "      <th>Nuclear Explosion</th>\n",
       "      <th>Rock Burst</th>\n",
       "    </tr>\n",
       "    <tr>\n",
       "      <th>Hemisfério</th>\n",
       "      <th></th>\n",
       "      <th></th>\n",
       "      <th></th>\n",
       "      <th></th>\n",
       "    </tr>\n",
       "  </thead>\n",
       "  <tbody>\n",
       "    <tr>\n",
       "      <th>Norte</th>\n",
       "      <td>0.447121</td>\n",
       "      <td>0.000085</td>\n",
       "      <td>0.006279</td>\n",
       "      <td>0.000000</td>\n",
       "    </tr>\n",
       "    <tr>\n",
       "      <th>Sul</th>\n",
       "      <td>0.545191</td>\n",
       "      <td>0.000085</td>\n",
       "      <td>0.001196</td>\n",
       "      <td>0.000043</td>\n",
       "    </tr>\n",
       "  </tbody>\n",
       "</table>\n",
       "</div>"
      ],
      "text/plain": [
       "Type        Earthquake  Explosion  Nuclear Explosion  Rock Burst\n",
       "Hemisfério                                                      \n",
       "Norte         0.447121   0.000085           0.006279    0.000000\n",
       "Sul           0.545191   0.000085           0.001196    0.000043"
      ]
     },
     "execution_count": 6,
     "metadata": {},
     "output_type": "execute_result"
    }
   ],
   "source": [
    "hemxty = pd.crosstab(df['Hemisfério'], df['Type'], normalize=True)\n",
    "hemxty"
   ]
  },
  {
   "cell_type": "markdown",
   "metadata": {},
   "source": [
    "<em><b>Tabela 1</b></em>: CrossTab entre as variáveis Hemisfério e Type"
   ]
  },
  {
   "cell_type": "markdown",
   "metadata": {},
   "source": [
    "### Q3.1 - Qual a probabilidade de ocorrer um terremoto no hemisfério norte?"
   ]
  },
  {
   "cell_type": "markdown",
   "metadata": {},
   "source": [
    "Adicione na célula abaixo o cálculo:"
   ]
  },
  {
   "cell_type": "markdown",
   "metadata": {},
   "source": [
    "<p style = ' font-weight:bold;'>Há mais de uma maneira de interpretar essa questão. Pode-se entender que ela busca saber:</p>\n",
    "<p> <b>I)</b> A probabilidade de, entre todas as situações, ocorrer um terremoto no Norte, que seria aproximadamente 44,71%;</p>\n"
   ]
  },
  {
   "cell_type": "markdown",
   "metadata": {},
   "source": [
    "<p><b>II)</b> A probabilidade de que, dado que ocorreu um terremoto, a probabilidade de ter sido no Norte: </p>\n",
    "<br>\n",
    "<p style = 'text-indent:2em;' ><b>P(Norte|Terremoto) = P(Norte ∩  Terremoto)/P(Terremoto) </b></p>\n",
    "<p style = 'text-indent:3em;' >--> P(Norte ∩  Terremoto) = 0,447121</p>\n",
    "<p style = 'text-indent:3em;' >--> P(Terremoto) = 0,447121+0,545191</p>"
   ]
  },
  {
   "cell_type": "code",
   "execution_count": 7,
   "metadata": {
    "collapsed": true
   },
   "outputs": [],
   "source": [
    "Pint = 0.447121\n",
    "Pterr = 0.447121+0.545191\n",
    "Pntalt = Pint/Pterr"
   ]
  },
  {
   "cell_type": "markdown",
   "metadata": {},
   "source": [
    "<p style = 'text-indent:4em;' > Encontrando como resultado 45,05%;</p>"
   ]
  },
  {
   "cell_type": "markdown",
   "metadata": {
    "collapsed": true
   },
   "source": [
    "<p><b>II)</b> A probabilidade de que, dado que ocorreu no Norte, a probabilidade de que, entre os possíveis desastres, tenha ocorrido um terremoto: </p>\n",
    "<br>\n",
    "<p style = 'text-indent:2em;' ><b>P(Terremoto|Norte) = P(Terremoto ∩  Norte)/P(Norte) </b></p>\n",
    "<p style = 'text-indent:3em;' >--> P(Terremoto ∩  Norte) = 0,447121</p>\n",
    "<p style = 'text-indent:3em;' >--> P(Norte) = 0,447121+0,000085+0,006279</p>"
   ]
  },
  {
   "cell_type": "code",
   "execution_count": 8,
   "metadata": {
    "collapsed": true
   },
   "outputs": [],
   "source": [
    "Pnort = 0.447121+0.000085+0.006279\n",
    "Pttaln = Pint/Pnort\n",
    "\n"
   ]
  },
  {
   "cell_type": "markdown",
   "metadata": {},
   "source": [
    "<p style = 'text-indent:4em;' > Encontrando como resultado 98,60%.</p>"
   ]
  },
  {
   "cell_type": "markdown",
   "metadata": {},
   "source": [
    "### Q3.2 - Dado que aconteceu no Norte, qual a probabilidade de ele ter sido `Nuclear Explosion`? "
   ]
  },
  {
   "cell_type": "markdown",
   "metadata": {},
   "source": [
    "Calcule a resposta abaixo, ou explique como a encontrou"
   ]
  },
  {
   "cell_type": "markdown",
   "metadata": {},
   "source": [
    "Se for cálculo preencha a célula a seguir:"
   ]
  },
  {
   "cell_type": "code",
   "execution_count": 9,
   "metadata": {},
   "outputs": [
    {
     "name": "stdout",
     "output_type": "stream",
     "text": [
      "A probabilidade de ter sido Nuclear Explosion dado que aconteceu no Norte é de 1.3846102958201485%\n"
     ]
    }
   ],
   "source": [
    "PNucN= 0.006279\n",
    "PNuctalN = PNucN/Pnort\n",
    "print('A probabilidade de ter sido Nuclear Explosion dado que aconteceu no Norte é de {}%'.format(PNuctalN*100))\n"
   ]
  },
  {
   "cell_type": "markdown",
   "metadata": {},
   "source": [
    "Se conseguir obter a resposta sem calcular, insira a resposta abaixo:\n",
    "\n",
    "* A probabilidade de ter sido `Nuclear Explosion` é ..."
   ]
  },
  {
   "cell_type": "code",
   "execution_count": null,
   "metadata": {
    "collapsed": true
   },
   "outputs": [],
   "source": []
  },
  {
   "cell_type": "markdown",
   "metadata": {},
   "source": [
    "## Q4 - Análise bivariada\n",
    "\n",
    "Faça o *plot* de dispersão (*scatter plot*) entre as variáveis `Magnitude Error`  e `Depth`"
   ]
  },
  {
   "cell_type": "code",
   "execution_count": 10,
   "metadata": {},
   "outputs": [
    {
     "data": {
      "image/png": "[encoded data removed]",
      "text/plain": [
       "<matplotlib.figure.Figure at 0x1a3d7232128>"
      ]
     },
     "metadata": {},
     "output_type": "display_data"
    }
   ],
   "source": [
    "plt.plot(df['Magnitude Error'], df['Depth'], 'D')\n",
    "plt.xlabel('Magnitude Error')\n",
    "plt.ylabel('Depth')\n",
    "plt.show()"
   ]
  },
  {
   "cell_type": "markdown",
   "metadata": {},
   "source": [
    "<em><b>Gráfico 2</b></em>: Gráfico da dispersão entre as variáveis `Magnitude Error`  e `Depth`"
   ]
  },
  {
   "cell_type": "markdown",
   "metadata": {},
   "source": [
    "Calcule a correlação entre as variáveis `Magnitude Error`  e `Depth`"
   ]
  },
  {
   "cell_type": "code",
   "execution_count": 11,
   "metadata": {},
   "outputs": [
    {
     "name": "stdout",
     "output_type": "stream",
     "text": [
      "A correlação entre as variáveis é: -0.0769184389233872\n"
     ]
    }
   ],
   "source": [
    "def coVar(x,y):\n",
    "    mediax = (sum(x)/len(x))\n",
    "    mediay = (sum(y)/len(y))\n",
    "    soma = 0\n",
    "    for i in range(len(x)):\n",
    "        soma+= (x.iloc[i]-mediax)*(y.iloc[i]-mediay)\n",
    "    cov = (1/len(x))*soma\n",
    "    return cov\n",
    "def desvPad(x):\n",
    "    mediax = x.mean()\n",
    "    soma = 0\n",
    "    for i in range(len(x)):\n",
    "        soma+= (x.iloc[i] - mediax)**2\n",
    "    desv = (soma/len(x))**(1/2)\n",
    "    return desv\n",
    "def correl(x,y):\n",
    "    corr = (coVar(x,y))/((desvPad(x))*(desvPad(y)))\n",
    "    return corr\n",
    "dados= df.dropna(subset=['Magnitude Error', 'Depth'])\n",
    "\n",
    "\n",
    "#modo 2 de calcular\n",
    "corr=np.corrcoef(dados['Magnitude Error'],dados.Depth)[0,1]\n",
    "\n",
    "   \n",
    "print('A correlação entre as variáveis é: {}'.format(corr))\n"
   ]
  },
  {
   "cell_type": "markdown",
   "metadata": {},
   "source": [
    "Explique o que significa o valor da correlação calculada acima? "
   ]
  },
  {
   "cell_type": "markdown",
   "metadata": {
    "collapsed": true
   },
   "source": [
    "<p style = 'text-indent:4em;' >O valor da correlação é negativo, o que indicaria que elas são inversamente proporcionais, ou seja, quando uma aumenta, a outra diminui. Porém, o valor é muito próximo de zero, o que mostra que a associação não é linear, já que há uma grande dispersão entre os dados.</p>"
   ]
  },
  {
   "cell_type": "markdown",
   "metadata": {},
   "source": [
    "## Q5 - Describe e boxplot\n",
    "\n",
    "Faça o `describe` e o *boxplot* da `Latitude` e da `Longitude`. Explique os valores"
   ]
  },
  {
   "cell_type": "code",
   "execution_count": 12,
   "metadata": {},
   "outputs": [
    {
     "data": {
      "text/plain": [
       "count    23412.000000\n",
       "mean         1.679033\n",
       "std         30.113183\n",
       "min        -77.080000\n",
       "25%        -18.653000\n",
       "50%         -3.568500\n",
       "75%         26.190750\n",
       "max         86.005000\n",
       "Name: Latitude, dtype: float64"
      ]
     },
     "execution_count": 12,
     "metadata": {},
     "output_type": "execute_result"
    }
   ],
   "source": [
    "df.Latitude.describe()"
   ]
  },
  {
   "cell_type": "markdown",
   "metadata": {},
   "source": [
    "<em><b>Tabela 2</b></em>: Tablea descritiva da Latitude"
   ]
  },
  {
   "cell_type": "markdown",
   "metadata": {},
   "source": [
    "<p style = 'text-indent:4em;' > A partir da <em><b>Tabela 2</b></em>, é possível extrair o tamanho da amostra(count) e a média entre os valores(mean) que é aproximadamento 1,7 graus, o que indica que a média está nos países próximos à linha do Equador. Além disso, é possível extrair o desvio padrão(std) o qual é grande, mostrando que há uma grande disperção de valores. O máximo e o mínimo também estão presentes, sendo próximos à 90 graus em módulo, mostrando que há valores obtidos de várias áreas do mundo, já que a Latitude está entre +90graus e -90graus. Além disso, é possível obter o valor máximo encontrado entre os 25%, 50% e 75%. Desse modo, percebe-se que a maioria dos valores encontra-se no hemisfério Sul, já que o valor máximo em 50% ainda é negativo, por mais que seja próximo de zero.</p>"
   ]
  },
  {
   "cell_type": "code",
   "execution_count": 13,
   "metadata": {},
   "outputs": [
    {
     "data": {
      "image/png": "[encoded data removed]",
      "text/plain": [
       "<matplotlib.figure.Figure at 0x1a3dc2c7d30>"
      ]
     },
     "metadata": {},
     "output_type": "display_data"
    }
   ],
   "source": [
    "# Boxplot\n",
    "plot = df.Latitude.plot(kind='box',title='Boxplot da Latitude')\n",
    "plt.ylabel('(em graus)')\n",
    "plt.show()"
   ]
  },
  {
   "cell_type": "markdown",
   "metadata": {},
   "source": [
    "<em><b>Gráfico 3</b></em>: Boxplot da Latiude"
   ]
  },
  {
   "cell_type": "markdown",
   "metadata": {},
   "source": [
    "<p style = 'text-indent:4em;' >O <em><b>Gráfico 3</b></em> comprova o que foi afirmado anteriormente</p>"
   ]
  },
  {
   "cell_type": "code",
   "execution_count": 14,
   "metadata": {},
   "outputs": [
    {
     "data": {
      "text/plain": [
       "count    23412.000000\n",
       "mean        39.639961\n",
       "std        125.511959\n",
       "min       -179.997000\n",
       "25%        -76.349750\n",
       "50%        103.982000\n",
       "75%        145.026250\n",
       "max        179.998000\n",
       "Name: Longitude, dtype: float64"
      ]
     },
     "execution_count": 14,
     "metadata": {},
     "output_type": "execute_result"
    }
   ],
   "source": [
    "df.Longitude.describe()"
   ]
  },
  {
   "cell_type": "markdown",
   "metadata": {},
   "source": [
    "<em><b>Tabela 3</b></em>: Tablea descritiva da Longitude"
   ]
  },
  {
   "cell_type": "markdown",
   "metadata": {},
   "source": [
    "<p style = 'text-indent:4em;' > A partir da <em><b>Tabela 3</b></em>, é possível extrair o tamanho da amostra(count) e a média entre os valores(mean) que é aproximadamento 39,6 graus, o que indica que a média está a leste do meridiano de Greenwich. Além disso, é possível extrair o desvio padrão(std) o qual é grande, mostrando que há uma grande disperção de valores. O máximo e o mínimo também estão presentes, sendo próximos à 180 graus em módulo, mostrando que há valores obtidos de várias áreas do mundo, já que a Longitude está entre +180graus e -180graus. Além disso, é possível obter o valor máximo encontrado entre os 25%, 50% e 75%. Desse modo, percebe-se que a maioria dos valores encontra-se no Oriente, já que o valor máximo em 50% é positivo..</p>"
   ]
  },
  {
   "cell_type": "code",
   "execution_count": 15,
   "metadata": {},
   "outputs": [
    {
     "data": {
      "image/png": "[encoded data removed]",
      "text/plain": [
       "<matplotlib.figure.Figure at 0x1a3db89c940>"
      ]
     },
     "metadata": {},
     "output_type": "display_data"
    }
   ],
   "source": [
    "# Boxplot\n",
    "plot = df.Longitude.plot(kind='box',title='Boxplot da Longitude')\n",
    "plt.ylabel('(em graus)')\n",
    "plt.show()"
   ]
  },
  {
   "cell_type": "markdown",
   "metadata": {},
   "source": [
    "<em><b>Gráfico 4</b></em>: Boxplot da Longitude"
   ]
  },
  {
   "cell_type": "markdown",
   "metadata": {},
   "source": [
    "<p style = 'text-indent:4em;' >O <em><b>Gráfico 4</b></em> comprova o que foi afirmado anteriormente</p>"
   ]
  },
  {
   "cell_type": "markdown",
   "metadata": {},
   "source": [
    "## Q6 - Tirando conclusões com base nos dados\n",
    "\n",
    "Em um certo lugar já ocorreram abalos com *Magnitude Type* `MB` e *Type* `Nuclear Explosion`. \n",
    " \n",
    "Responda: \n",
    "    * É mais provável que tenha sido no norte ou no sul? \n",
    "    \n",
    "Assuma que os Magnitude Type e Type são independentes\n"
   ]
  },
  {
   "cell_type": "code",
   "execution_count": 16,
   "metadata": {},
   "outputs": [
    {
     "name": "stdout",
     "output_type": "stream",
     "text": [
      "Norte\n"
     ]
    }
   ],
   "source": [
    "#Redução do espaço amostral\n",
    "novo = df[df['Magnitude Type']=='MB'] #já se sabe que é MB\n",
    "dadosnovo = novo[novo['Type']=='Nuclear Explosion'] #já se sabe que é Nuclear Explosion\n",
    "\n",
    "a=dadosnovo['Hemisfério'].value_counts()\n",
    "probsul = a['Sul']/(a['Sul']+a['Norte'])\n",
    "probnorte = a['Norte']/(a['Sul']+a['Norte'])\n",
    "if probsul> probnorte:\n",
    "    print('Sul')\n",
    "else:\n",
    "    print('Norte')  "
   ]
  },
  {
   "cell_type": "markdown",
   "metadata": {
    "collapsed": true
   },
   "source": [
    "<p style = 'text-indent:4em;' > Dado que já ocorreram abalos com *Magnitude Type* `MB` e *Type* `Nuclear Explosion`, há uma maior probabilidade de que o local onde ocorra isso seja no hemisfério Norte.</p>"
   ]
  },
  {
   "cell_type": "code",
   "execution_count": null,
   "metadata": {
    "collapsed": true
   },
   "outputs": [],
   "source": []
  }
 ],
 "metadata": {
  "kernelspec": {
   "display_name": "Python 3",
   "language": "python",
   "name": "python3"
  },
  "language_info": {
   "codemirror_mode": {
    "name": "ipython",
    "version": 3
   },
   "file_extension": ".py",
   "mimetype": "text/x-python",
   "name": "python",
   "nbconvert_exporter": "python",
   "pygments_lexer": "ipython3",
   "version": "3.6.1"
  }
 },
 "nbformat": 4,
 "nbformat_minor": 1
}
