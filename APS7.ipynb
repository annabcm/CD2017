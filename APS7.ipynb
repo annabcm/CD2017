{
 "cells": [
  {
   "cell_type": "markdown",
   "metadata": {},
   "source": [
    "# Anna Beathriz C de Mauro"
   ]
  },
  {
   "cell_type": "code",
   "execution_count": 33,
   "metadata": {
    "collapsed": true
   },
   "outputs": [],
   "source": [
    "import numpy as np\n",
    "import matplotlib.pyplot as plt\n",
    "import math\n",
    "from scipy import stats\n",
    "import pandas as pd"
   ]
  },
  {
   "cell_type": "markdown",
   "metadata": {},
   "source": [
    "# 1) a)"
   ]
  },
  {
   "cell_type": "code",
   "execution_count": 9,
   "metadata": {},
   "outputs": [
    {
     "name": "stdout",
     "output_type": "stream",
     "text": [
      "A média é 0.83724\n",
      "s2 = 0.0006030511428571423\n",
      "Portanto, s = 0.024557099642611345\n"
     ]
    }
   ],
   "source": [
    "amostra = [0.8411, 0.8191, 0.8182, 0.8125, 0.8580, 0.8532, 0.8483,\n",
    "           0.8276, 0.8042, 0.8730, 0.8282, 0.8359, 0.8750, 0.7983, 0.8660]\n",
    "soma = sum(amostra)\n",
    "media = soma/15\n",
    "print('A média é', media)\n",
    "s2 = 0\n",
    "for i in amostra:\n",
    "    s2+= ((i-media)**2)/(15-1)\n",
    "print(\"s2 =\", s2)\n",
    "print('Portanto, s =',(s2)**(1/2))"
   ]
  },
  {
   "cell_type": "markdown",
   "metadata": {},
   "source": [
    "# c)"
   ]
  },
  {
   "cell_type": "code",
   "execution_count": 14,
   "metadata": {},
   "outputs": [
    {
     "name": "stdout",
     "output_type": "stream",
     "text": [
      "tobs = 2.71865769090456\n"
     ]
    }
   ],
   "source": [
    "tobs = (media - 0.82)/(0.02456/(15**(1/2)))\n",
    "print('tobs =',tobs)"
   ]
  },
  {
   "cell_type": "markdown",
   "metadata": {},
   "source": [
    "# f)"
   ]
  },
  {
   "cell_type": "code",
   "execution_count": 25,
   "metadata": {},
   "outputs": [
    {
     "name": "stdout",
     "output_type": "stream",
     "text": [
      "tcrit= 1.76131013577 valorp= 0.00831860311101\n"
     ]
    }
   ],
   "source": [
    "tcrit = stats.t.ppf((1-0.05),df=14)\n",
    "valorp = 1-stats.t.cdf(tobs,df=14)\n",
    "print('tcrit=', tcrit, 'valorp=',valorp)"
   ]
  },
  {
   "cell_type": "markdown",
   "metadata": {},
   "source": [
    "# 2)"
   ]
  },
  {
   "cell_type": "code",
   "execution_count": 31,
   "metadata": {},
   "outputs": [
    {
     "name": "stdout",
     "output_type": "stream",
     "text": [
      "valorp = 0.982270750384\n"
     ]
    }
   ],
   "source": [
    "amostra = [23.01, 22.22, 22.04, 22.62,22.59]\n",
    "soma = sum(amostra)\n",
    "media = soma/5\n",
    "s2 = 0\n",
    "for i in amostra:\n",
    "    s2+= ((i-media)**2)/(5-1)\n",
    "s = s2**(1/2)\n",
    "tobs = (media - 22.5)/(s/(5**(1/2))) \n",
    "valorp = 2*stats.t.cdf(tobs,df=4)\n",
    "print('valorp =', valorp)"
   ]
  },
  {
   "cell_type": "code",
   "execution_count": 32,
   "metadata": {},
   "outputs": [
    {
     "name": "stdout",
     "output_type": "stream",
     "text": [
      "tcriticos são -2.7764451052 2.7764451052\n"
     ]
    }
   ],
   "source": [
    "tcrit = stats.t.ppf((1-0.025),df = 5-1)\n",
    "print('tcriticos são',-tcrit,tcrit)"
   ]
  },
  {
   "cell_type": "code",
   "execution_count": 35,
   "metadata": {},
   "outputs": [
    {
     "data": {
      "image/png": "[encoded data removed]",
      "text/plain": [
       "<matplotlib.figure.Figure at 0x20d03aaa160>"
      ]
     },
     "metadata": {},
     "output_type": "display_data"
    }
   ],
   "source": [
    "dados = pd.Series(amostra)\n",
    "stats.probplot(dados, dist='norm', plot=plt)\n",
    "plt.show()"
   ]
  },
  {
   "cell_type": "markdown",
   "metadata": {},
   "source": [
    "# 3)"
   ]
  },
  {
   "cell_type": "code",
   "execution_count": 43,
   "metadata": {},
   "outputs": [
    {
     "name": "stdout",
     "output_type": "stream",
     "text": [
      "Média:  176.83777777777777\n",
      "Desvio padrão amostral:  110.95287190067022\n"
     ]
    }
   ],
   "source": [
    "dados = [ 129.26, 204.49, 116.89, 106.4 , 95.3 , 123.35, 92.3 , 300.02, 264.34, 168.27, 80.02, 117.96,\n",
    "         117.73, 370.47, 462.59, 92.58, 258.52, 82.59]\n",
    "dados = pd.Series(dados)\n",
    "n = len(dados)\n",
    "#Estimativas\n",
    "xbarra = np.mean(dados)\n",
    "dp = np.std(dados,ddof=1)\n",
    "\n",
    "print(\"Média: \", xbarra)\n",
    "print(\"Desvio padrão amostral: \", dp)\n"
   ]
  },
  {
   "cell_type": "code",
   "execution_count": 44,
   "metadata": {},
   "outputs": [
    {
     "name": "stdout",
     "output_type": "stream",
     "text": [
      "Limite inferior: 130.743111111\n",
      "Limite superior: 229.565763889\n"
     ]
    }
   ],
   "source": [
    "#Construção das Reamostragens da amostra mestre (dados) com reposição\n",
    "\n",
    "xbarra_Boot = []\n",
    "\n",
    "B = 10000\n",
    "for i in range(B):\n",
    "    # Gera uma reamostra dos dados _com_ reposição\n",
    "    amostra = np.random.choice(dados, size=n, replace=True)\n",
    "    xbarraB = np.mean(amostra)\n",
    "    xbarra_Boot.append(xbarraB)\n",
    "#Intervalo de confiança Bootstrap Percentil (ou Quantil)\n",
    "#Confiança = 0.95\n",
    "\n",
    "Lim_inf = np.percentile(xbarra_Boot, 2.5)\n",
    "Lim_sup = np.percentile(xbarra_Boot, 97.5)\n",
    "print('Limite inferior:', Lim_inf)\n",
    "print('Limite superior:', Lim_sup)\n"
   ]
  },
  {
   "cell_type": "code",
   "execution_count": 46,
   "metadata": {},
   "outputs": [
    {
     "name": "stdout",
     "output_type": "stream",
     "text": [
      "Limite inferior: 59.4306781645\n",
      "Limite superior: 143.47204072\n"
     ]
    }
   ],
   "source": [
    "#Construção das Reamostragens da amostra mestre (dados) com reposição\n",
    "\n",
    "xbarra_Boot = []\n",
    "\n",
    "B = 10000\n",
    "for i in range(B):\n",
    "    # Gera uma reamostra dos dados _com_ reposição\n",
    "    amostra = np.random.choice(dados, size=n, replace=True)\n",
    "    xbarraB = np.std(amostra,ddof=1)\n",
    "    xbarra_Boot.append(xbarraB)\n",
    "#Intervalo de confiança Bootstrap Percentil (ou Quantil)\n",
    "#Confiança = 0.95\n",
    "\n",
    "Lim_inf = np.percentile(xbarra_Boot, 2.5)\n",
    "Lim_sup = np.percentile(xbarra_Boot, 97.5)\n",
    "print('Limite inferior:', Lim_inf)\n",
    "print('Limite superior:', Lim_sup)\n"
   ]
  },
  {
   "cell_type": "markdown",
   "metadata": {
    "collapsed": true
   },
   "source": [
    "Está dentro dos limites"
   ]
  },
  {
   "cell_type": "code",
   "execution_count": null,
   "metadata": {
    "collapsed": true
   },
   "outputs": [],
   "source": []
  }
 ],
 "metadata": {
  "kernelspec": {
   "display_name": "Python 3",
   "language": "python",
   "name": "python3"
  },
  "language_info": {
   "codemirror_mode": {
    "name": "ipython",
    "version": 3
   },
   "file_extension": ".py",
   "mimetype": "text/x-python",
   "name": "python",
   "nbconvert_exporter": "python",
   "pygments_lexer": "ipython3",
   "version": "3.6.1"
  }
 },
 "nbformat": 4,
 "nbformat_minor": 2
}
