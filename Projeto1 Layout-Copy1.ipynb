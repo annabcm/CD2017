{
 "cells": [
  {
   "cell_type": "markdown",
   "metadata": {},
   "source": [
    "___\n",
    "# Ciência dos Dados - PROJETO 1"
   ]
  },
  {
   "cell_type": "markdown",
   "metadata": {},
   "source": [
    "## Anna Beathriz Cipriano de Mauro\n",
    "___"
   ]
  },
  {
   "cell_type": "markdown",
   "metadata": {},
   "source": [
    "## TÍTULO DO SEU PROJETO"
   ]
  },
  {
   "cell_type": "markdown",
   "metadata": {},
   "source": [
    "___\n",
    "## Introdução\n",
    "\n",
    "Descreva aqui o que pretende analisar!\n",
    "\n",
    "Capriche no português!! \n",
    "Se quiser pode utilizar pesquisas semelhantes publicadas em sites confiáveis!!\n"
   ]
  },
  {
   "cell_type": "markdown",
   "metadata": {},
   "source": [
    "___\n",
    "## Análise e Resultados"
   ]
  },
  {
   "cell_type": "code",
   "execution_count": 1,
   "metadata": {
    "collapsed": true
   },
   "outputs": [],
   "source": [
    "%matplotlib inline\n",
    "import pandas as pd\n",
    "import matplotlib.pyplot as plt\n",
    "import numpy as np\n",
    "import os\n",
    "import matplotlib.patches as mpatches"
   ]
  },
  {
   "cell_type": "code",
   "execution_count": 2,
   "metadata": {
    "collapsed": true
   },
   "outputs": [],
   "source": [
    "dados15 = pd.read_csv('DOM2015.csv',sep=',')\n",
    "dados14 = pd.read_csv('DOM2014.csv',sep=',')\n",
    "dados13 = pd.read_csv('DOM2013.csv',sep=',')\n",
    "dados1 = dados15.append(dados14)\n",
    "dados = dados1.append(dados13)"
   ]
  },
  {
   "cell_type": "code",
   "execution_count": 3,
   "metadata": {
    "collapsed": true
   },
   "outputs": [],
   "source": [
    "#Limitações\n",
    "dados = dados[dados.V4105 <= 3]"
   ]
  },
  {
   "cell_type": "code",
   "execution_count": 4,
   "metadata": {},
   "outputs": [],
   "source": [
    "#Ano\n",
    "dados=dados.rename(columns = {'V0101':'Ano'})\n",
    "dados=dados.rename(columns = {'V4621':'Renda'})\n",
    "dados.loc[dados.Renda == 999999999999.0 , 'Renda'] = np.NaN\n",
    "\n",
    "#Acesso Internet\n",
    "dados=dados.rename(columns = {'V02322':'Internet'})\n",
    "dados.loc[dados.Internet == 2, 'Internet'] = 'Sim'\n",
    "dados.loc[dados.Internet == 4, 'Internet'] = 'Não'"
   ]
  },
  {
   "cell_type": "code",
   "execution_count": 5,
   "metadata": {},
   "outputs": [],
   "source": [
    "#Região\n",
    "dados.loc[dados.UF<20,'REGIAO'] = 'Norte'\n",
    "dados.loc[dados.UF>=20,'REGIAO'] = 'Nordeste'\n",
    "dados.loc[dados.UF>=30,'REGIAO'] = 'Sudeste'\n",
    "dados.loc[dados.UF>=40,'REGIAO'] = 'Sul'\n",
    "dados.loc[dados.UF>=50,'REGIAO'] = 'Centro-Oeste'"
   ]
  },
  {
   "cell_type": "code",
   "execution_count": 6,
   "metadata": {},
   "outputs": [],
   "source": [
    "#-------------------- Internet -------------------------------\n",
    "\n",
    "#Acesso\n",
    "dados.loc[dados.V02323 == 2, 'Microcomputador'] = 'Sim'\n",
    "dados.loc[dados.V02323 == 4, 'Microcomputador'] = 'Não'\n",
    "\n",
    "dados.loc[dados.V02324 == 2, 'Celular'] = 'Sim'\n",
    "dados.loc[dados.V02324 == 4, 'Celular'] = 'Não'\n",
    "\n"
   ]
  },
  {
   "cell_type": "code",
   "execution_count": 7,
   "metadata": {
    "collapsed": true
   },
   "outputs": [],
   "source": [
    "#Renda per capita quali\n",
    "dados.loc[dados.V4622 == 99,'Renda domiciliar per capita'] = np.NaN\n",
    "dados.loc[dados.V4622 == 0, 'Renda domiciliar per capita'] = 'Sem rendimento'\n",
    "dados.loc[dados.V4622 == 1, 'Renda domiciliar per capita'] = 'Até 1/4 do salário mínimo'\n",
    "dados.loc[dados.V4622 == 2, 'Renda domiciliar per capita'] = '1/4 a 1/2 salário mínimo'\n",
    "dados.loc[dados.V4622 == 3, 'Renda domiciliar per capita'] = '1/2 a 1 salário mínimo'\n",
    "dados.loc[dados.V4622 == 4, 'Renda domiciliar per capita'] = '1 a 2 salários mínimos'\n",
    "dados.loc[dados.V4622 == 5, 'Renda domiciliar per capita'] = '2 a 3 salários mínimos'\n",
    "dados.loc[dados.V4622 == 6, 'Renda domiciliar per capita'] = '3 a 5 salários mínimos'\n",
    "dados.loc[dados.V4622 == 7, 'Renda domiciliar per capita'] = 'Mais de 5 salários mínimos'\n"
   ]
  },
  {
   "cell_type": "code",
   "execution_count": null,
   "metadata": {
    "collapsed": true
   },
   "outputs": [],
   "source": []
  },
  {
   "cell_type": "code",
   "execution_count": 8,
   "metadata": {},
   "outputs": [
    {
     "data": {
      "text/plain": [
       "0           800.0\n",
       "1             NaN\n",
       "2          1150.0\n",
       "3           793.0\n",
       "4          2900.0\n",
       "5          1990.0\n",
       "6           350.0\n",
       "7          1333.0\n",
       "8           818.0\n",
       "9             NaN\n",
       "10         1716.0\n",
       "11         2500.0\n",
       "12            NaN\n",
       "13         1400.0\n",
       "14            NaN\n",
       "15          666.0\n",
       "16          788.0\n",
       "17          750.0\n",
       "18         1437.0\n",
       "19          600.0\n",
       "20          933.0\n",
       "21         1087.0\n",
       "22            NaN\n",
       "23         2666.0\n",
       "24            NaN\n",
       "25            NaN\n",
       "26          700.0\n",
       "27         3325.0\n",
       "28         3500.0\n",
       "29         1172.0\n",
       "           ...   \n",
       "148667        NaN\n",
       "148668     4000.0\n",
       "148669    23500.0\n",
       "148670        NaN\n",
       "148671        NaN\n",
       "148672     6250.0\n",
       "148673        NaN\n",
       "148674        NaN\n",
       "148675        NaN\n",
       "148676        NaN\n",
       "148677    13000.0\n",
       "148678     7000.0\n",
       "148679     9200.0\n",
       "148680      538.0\n",
       "148681      150.0\n",
       "148682     1300.0\n",
       "148683      750.0\n",
       "148684      600.0\n",
       "148685        NaN\n",
       "148686        NaN\n",
       "148687      356.0\n",
       "148688      974.0\n",
       "148689      750.0\n",
       "148690      516.0\n",
       "148691        NaN\n",
       "148692      800.0\n",
       "148693      100.0\n",
       "148694      387.0\n",
       "148695      400.0\n",
       "148696        NaN\n",
       "Name: Renda, Length: 383536, dtype: float64"
      ]
     },
     "execution_count": 8,
     "metadata": {},
     "output_type": "execute_result"
    }
   ],
   "source": [
    "dados.Renda"
   ]
  },
  {
   "cell_type": "code",
   "execution_count": 9,
   "metadata": {},
   "outputs": [],
   "source": [
    "inicio = dados.columns.get_loc('REGIAO')\n",
    "fim = dados.columns.get_loc('Renda domiciliar per capita')\n",
    "ano = dados.columns.get_loc('Ano')\n",
    "internet = dados.columns.get_loc('Internet')\n",
    "renda = dados.columns.get_loc('Renda')\n",
    "Colunas =[internet,ano,renda]\n",
    "for x in range(inicio,fim+1):\n",
    "    Colunas.append(x)\n",
    "dados = dados.iloc[:,Colunas]\n",
    "dados = dados.dropna(subset=('REGIAO','Renda domiciliar per capita','Renda'))"
   ]
  },
  {
   "cell_type": "code",
   "execution_count": null,
   "metadata": {},
   "outputs": [],
   "source": []
  },
  {
   "cell_type": "code",
   "execution_count": 10,
   "metadata": {},
   "outputs": [
    {
     "data": {
      "text/plain": [
       "<matplotlib.axes._subplots.AxesSubplot at 0x19df5faa940>"
      ]
     },
     "execution_count": 10,
     "metadata": {},
     "output_type": "execute_result"
    },
    {
     "data": {
      "image/png": "[encoded data removed]",
      "text/plain": [
       "<matplotlib.figure.Figure at 0x19df5f9c6a0>"
      ]
     },
     "metadata": {},
     "output_type": "display_data"
    }
   ],
   "source": [
    "evc = dados.Ano.value_counts()\n",
    "evc.plot(kind='pie', autopct=\"%.2f\", legend=False)"
   ]
  },
  {
   "cell_type": "code",
   "execution_count": 11,
   "metadata": {},
   "outputs": [
    {
     "data": {
      "image/png": "[encoded data removed]",
      "text/plain": [
       "<matplotlib.figure.Figure at 0x19df5faabe0>"
      ]
     },
     "metadata": {},
     "output_type": "display_data"
    }
   ],
   "source": [
    "fig = plt.figure(figsize=(15, 5))\n",
    "plt.subplot(131)\n",
    "inter13 = dados.Internet[dados.Ano==2013].value_counts(True)*100\n",
    "plot = inter13.plot(kind='pie',autopct=\"%0.1f\",legend=False, title = '2013')\n",
    "\n",
    "plt.subplot(132)\n",
    "plt.title( 'Acesso à Internet com o passar dos anos \\n\\n\\n 2014')\n",
    "inter14 = dados.Internet[dados.Ano==2014].value_counts(True)*100\n",
    "plot = inter14.plot(kind='pie',autopct=\"%0.1f\",legend=False)\n",
    "\n",
    "plt.subplot(133)\n",
    "inter15 = dados.Internet[dados.Ano==2015].value_counts(True)*100\n",
    "plot = inter15.plot(kind='pie',autopct=\"%0.1f\",legend=False,title = '2015')\n",
    "\n",
    "plt.tight_layout()\n",
    "plt.show()"
   ]
  },
  {
   "cell_type": "code",
   "execution_count": null,
   "metadata": {},
   "outputs": [],
   "source": [
    "#--------------Renda -----------------\n",
    "faixasrend = np.arange(0,10000,500)\n",
    "dados.Renda[dados.Ano == 2013].plot.hist(bins=faixasrend, title = 'Renda per capita', alpha = 0.5)\n",
    "plt.xlabel('Renda per capita (em reais)')\n",
    "plt.ylabel('Frequência Absoluta')\n",
    "plt.show()"
   ]
  },
  {
   "cell_type": "code",
   "execution_count": null,
   "metadata": {
    "collapsed": true
   },
   "outputs": [],
   "source": [
    "dados = dados[dados.Internet == 'Sim']"
   ]
  },
  {
   "cell_type": "code",
   "execution_count": null,
   "metadata": {},
   "outputs": [],
   "source": [
    "#--------------Renda -----------------\n",
    "faixasrend = np.arange(0,10000,500)\n",
    "dados.Renda[dados.Ano == 2013].plot.hist(bins=faixasrend, title = 'Renda per capita', alpha = 0.5)\n",
    "plt.xlabel('Renda per capita (em reais)')\n",
    "plt.ylabel('Frequência Absoluta')\n",
    "plt.show()"
   ]
  },
  {
   "cell_type": "code",
   "execution_count": null,
   "metadata": {
    "collapsed": true
   },
   "outputs": [],
   "source": []
  },
  {
   "cell_type": "code",
   "execution_count": 17,
   "metadata": {},
   "outputs": [
    {
     "data": {
      "image/png": "[encoded data removed]",
      "text/plain": [
       "<matplotlib.figure.Figure at 0x19d81b28400>"
      ]
     },
     "metadata": {},
     "output_type": "display_data"
    }
   ],
   "source": [
    "#--------------Renda -----------------\n",
    "\n",
    "fig = plt.figure(figsize=(20, 5))\n",
    "plt.subplot(141)\n",
    "\n",
    "dadosx = dados\n",
    "\n",
    "dadosx=dadosx.rename(columns = {'Renda':'Brasil'})\n",
    "\n",
    "faixasrend = np.arange(0,10000,500)\n",
    "dadosx.Brasil[dadosx.Ano == 2013].plot.hist(bins=faixasrend, title = 'Renda per capita', alpha = 0.5, color = ('orange'))\n",
    "plt.xlabel('Renda per capita (em reais)')\n",
    "plt.ylabel('Frequência Absoluta')\n",
    "\n",
    "dadosIn = dados[dados.Internet == 'Não']\n",
    "\n",
    "dadosIn=dadosIn.rename(columns = {'Renda':'Pessoas sem acesso à Internet'})\n",
    "\n",
    "dadosIn['Pessoas sem acesso à Internet'][dadosIn.Ano == 2013].plot.hist(bins=faixasrend, title = 'Renda per capita', alpha = 0.5, color = ('red'))\n",
    "plt.xlabel('Renda per capita (em reais)')\n",
    "plt.ylabel('Frequência Absoluta')\n",
    "\n",
    "dadosI = dados[dados.Internet == 'Sim']\n",
    "\n",
    "dadosI=dadosI.rename(columns = {'Renda':'Pessoas com acesso à Internet'})\n",
    "\n",
    "#--------------Renda -----------------\n",
    "dadosI['Pessoas com acesso à Internet'][dadosI.Ano == 2013].plot.hist(bins=faixasrend, title = 'Renda per capita', alpha = 0.5, color = ('green'))\n",
    "plt.xlabel('Renda per capita (em reais)')\n",
    "plt.ylabel('Frequência Absoluta')\n",
    "\n",
    "\n",
    "#--------------------------------------------\n",
    "plt.subplot(142)\n",
    "dadosx.Brasil[dadosx.Ano == 2014].plot.hist(bins=faixasrend, title = 'Renda per capita', alpha = 0.5, color = ('orange'))\n",
    "plt.xlabel('Renda per capita (em reais)')\n",
    "plt.ylabel('Frequência Absoluta')\n",
    "\n",
    "dadosIn['Pessoas sem acesso à Internet'][dadosIn.Ano == 2014].plot.hist(bins=faixasrend, title = 'Renda per capita', alpha = 0.5, color = ('red'))\n",
    "plt.xlabel('Renda per capita (em reais)')\n",
    "plt.ylabel('Frequência Absoluta')\n",
    "\n",
    "\n",
    "dadosI['Pessoas com acesso à Internet'][dadosI.Ano == 2014].plot.hist(bins=faixasrend, title = 'Renda per capita', alpha = 0.5, color = ('green'))\n",
    "plt.xlabel('Renda per capita (em reais)')\n",
    "plt.ylabel('Frequência Absoluta')\n",
    "\n",
    "#--------------------------------------------\n",
    "plt.subplot(143)\n",
    "dadosx.Brasil[dadosx.Ano == 2015].plot.hist(bins=faixasrend, title = 'Renda per capita', alpha = 0.5, color = ('orange'))\n",
    "plt.xlabel('Renda per capita (em reais)')\n",
    "plt.ylabel('Frequência Absoluta')\n",
    "\n",
    "dadosIn['Pessoas sem acesso à Internet'][dadosIn.Ano == 2015].plot.hist(bins=faixasrend, title = 'Renda per capita', alpha = 0.5, color = ('red'))\n",
    "plt.xlabel('Renda per capita (em reais)')\n",
    "plt.ylabel('Frequência Absoluta')\n",
    "\n",
    "\n",
    "dadosI['Pessoas com acesso à Internet'][dadosI.Ano == 2015].plot.hist(bins=faixasrend, title = 'Renda per capita', alpha = 0.5, color = ('green'))\n",
    "plt.xlabel('Renda per capita (em reais)')\n",
    "plt.ylabel('Frequência Absoluta')\n",
    "\n",
    "\n",
    "#ax = plt.subplot(144)\n",
    "\n",
    "#box = ax.get_position()\n",
    "#ax.set_position([box.x0, box.y0, box.width * 0.8, box.height])\n",
    "#ax.legend(loc='center left', bbox_to_anchor=(1, 0.5))\n",
    "\n",
    "plt.tight_layout()\n",
    "plt.show()\n",
    "\n"
   ]
  },
  {
   "cell_type": "code",
   "execution_count": null,
   "metadata": {
    "collapsed": true
   },
   "outputs": [],
   "source": []
  },
  {
   "cell_type": "code",
   "execution_count": null,
   "metadata": {
    "collapsed": true
   },
   "outputs": [],
   "source": []
  },
  {
   "cell_type": "code",
   "execution_count": null,
   "metadata": {
    "collapsed": true
   },
   "outputs": [],
   "source": []
  },
  {
   "cell_type": "code",
   "execution_count": null,
   "metadata": {
    "collapsed": true
   },
   "outputs": [],
   "source": []
  },
  {
   "cell_type": "code",
   "execution_count": null,
   "metadata": {
    "collapsed": true
   },
   "outputs": [],
   "source": []
  },
  {
   "cell_type": "code",
   "execution_count": null,
   "metadata": {
    "collapsed": true
   },
   "outputs": [],
   "source": []
  },
  {
   "cell_type": "code",
   "execution_count": null,
   "metadata": {
    "collapsed": true
   },
   "outputs": [],
   "source": []
  },
  {
   "cell_type": "code",
   "execution_count": null,
   "metadata": {
    "collapsed": true
   },
   "outputs": [],
   "source": []
  },
  {
   "cell_type": "code",
   "execution_count": null,
   "metadata": {
    "collapsed": true
   },
   "outputs": [],
   "source": []
  },
  {
   "cell_type": "code",
   "execution_count": null,
   "metadata": {
    "collapsed": true
   },
   "outputs": [],
   "source": []
  },
  {
   "cell_type": "code",
   "execution_count": null,
   "metadata": {},
   "outputs": [],
   "source": [
    "#--------------Renda -----------------\n",
    "faixasrend = np.arange(minimo,maximo,deltafaixas)"
   ]
  },
  {
   "cell_type": "code",
   "execution_count": null,
   "metadata": {
    "collapsed": true
   },
   "outputs": [],
   "source": [
    "#Função para o gráfico stacked\n",
    "def porc_linha_ou_coluna(tabela):\n",
    "    a= (tabela/float(tabela[-1])*100).round(decimals=1)\n",
    "    return a"
   ]
  },
  {
   "cell_type": "code",
   "execution_count": null,
   "metadata": {},
   "outputs": [],
   "source": [
    "regcel = pd.crosstab(dados.REGIAO[dados.Ano==2015],dados.Celular[dados.Ano==2015],margins = True, normalize=True,).apply(porc_linha_ou_coluna,axis=1)\n",
    "regcel = regcel.iloc[0:5,0:3]\n",
    "regcel"
   ]
  },
  {
   "cell_type": "code",
   "execution_count": null,
   "metadata": {},
   "outputs": [],
   "source": [
    "dc15 = dados.Celular[dados.Ano==2015].value_counts(True)*100\n",
    "dc14 = dados.Celular[dados.Ano==2014].value_counts(True)*100\n",
    "dc13 = dados.Celular[dados.Ano==2013].value_counts(True)*100\n",
    "\n",
    "fig= plt.figure(figsize = (20,5))\n",
    "plt.subplot(131)\n",
    "plot = dc15.plot(kind='pie',autopct=\"%0.2f\",legend=False)\n",
    "\n",
    "plt.subplot(132)\n",
    "plot = dc14.plot(kind='pie',autopct=\"%0.2f\",legend=False)\n",
    "\n",
    "plt.subplot(133)\n",
    "plot = dc13.plot(kind='pie',autopct=\"%0.2f\",legend=False)\n",
    "\n",
    "plt.show()"
   ]
  },
  {
   "cell_type": "code",
   "execution_count": null,
   "metadata": {},
   "outputs": [],
   "source": [
    "dados.Renda"
   ]
  },
  {
   "cell_type": "code",
   "execution_count": null,
   "metadata": {},
   "outputs": [],
   "source": [
    "#--------------Renda -----------------\n",
    "faixasrend = np.arange(0,10000,500)\n",
    "dados.Renda[dados.Ano == 2013].plot.hist(bins=faixasrend, title = 'Renda per capita', alpha = 0.5)\n",
    "plt.xlabel('Renda per capita (em reais)')\n",
    "plt.ylabel('Frequência Absoluta')\n",
    "plt.show()"
   ]
  },
  {
   "cell_type": "markdown",
   "metadata": {},
   "source": [
    "\n",
    "## Conclusão "
   ]
  },
  {
   "cell_type": "markdown",
   "metadata": {
    "collapsed": true
   },
   "source": [
    "Descreva aqui suas conclusões!"
   ]
  },
  {
   "cell_type": "code",
   "execution_count": null,
   "metadata": {
    "collapsed": true
   },
   "outputs": [],
   "source": []
  }
 ],
 "metadata": {
  "anaconda-cloud": {},
  "kernelspec": {
   "display_name": "Python 3",
   "language": "python",
   "name": "python3"
  },
  "language_info": {
   "codemirror_mode": {
    "name": "ipython",
    "version": 3
   },
   "file_extension": ".py",
   "mimetype": "text/x-python",
   "name": "python",
   "nbconvert_exporter": "python",
   "pygments_lexer": "ipython3",
   "version": "3.6.1"
  }
 },
 "nbformat": 4,
 "nbformat_minor": 1
}
